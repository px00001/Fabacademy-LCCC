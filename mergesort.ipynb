{
  "nbformat": 4,
  "nbformat_minor": 0,
  "metadata": {
    "colab": {
      "provenance": [],
      "authorship_tag": "ABX9TyPpsLrUhrLGuw+SxfKSUnTY",
      "include_colab_link": true
    },
    "kernelspec": {
      "name": "python3",
      "display_name": "Python 3"
    },
    "language_info": {
      "name": "python"
    }
  },
  "cells": [
    {
      "cell_type": "markdown",
      "metadata": {
        "id": "view-in-github",
        "colab_type": "text"
      },
      "source": [
        "<a href=\"https://colab.research.google.com/github/px00001/Fabacademy-LCCC/blob/master/mergesort.ipynb\" target=\"_parent\"><img src=\"https://colab.research.google.com/assets/colab-badge.svg\" alt=\"Open In Colab\"/></a>"
      ]
    },
    {
      "cell_type": "code",
      "execution_count": 5,
      "metadata": {
        "colab": {
          "base_uri": "https://localhost:8080/"
        },
        "id": "SOLRb0cQ6xIC",
        "outputId": "a44e8357-e707-45c9-9ac3-80ad5516875d"
      },
      "outputs": [
        {
          "output_type": "stream",
          "name": "stdout",
          "text": [
            "[5, 4, 3, 2, 1, 0, 99, 27, 16, 21, 21]\n",
            "[0, 1, 2, 3, 4, 5, 16, 21, 21, 27, 99]\n"
          ]
        }
      ],
      "source": [
        "def merge_sort(array):\n",
        "\n",
        "    if len(array) <= 1:\n",
        "        return array\n",
        "\n",
        "    midpoint = int(len(array) / 2)\n",
        "\n",
        "    left, right = merge_sort(array[:midpoint]), merge_sort(array[midpoint:])\n",
        "\n",
        "    return merge(left, right)\n",
        "\n",
        "\n",
        "def merge(left, right):\n",
        "\n",
        "    result = []\n",
        "    left_pointer = right_pointer = 0\n",
        "\n",
        "    while left_pointer < len(left) and right_pointer < len(right):\n",
        "\n",
        "        if left[left_pointer] < right[right_pointer]:\n",
        "\n",
        "            result.append(left[left_pointer])\n",
        "            left_pointer += 1\n",
        "\n",
        "        else:\n",
        "\n",
        "            result.append(right[right_pointer])\n",
        "            right_pointer += 1\n",
        "\n",
        "    result.extend(left[left_pointer:])\n",
        "    result.extend(right[right_pointer:])\n",
        "\n",
        "    return result\n",
        "\n",
        "\n",
        "def main():\n",
        "    array = [5, 4, 3, 2, 1, 0, 99, 27, 16, 21, 21]\n",
        "    print(array)\n",
        "\n",
        "    result = merge_sort(array)\n",
        "    print(result)\n",
        "\n",
        "if __name__ == \"__main__\":\n",
        "    main()\n"
      ]
    }
  ]
}